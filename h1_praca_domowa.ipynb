{
 "cells": [
  {
   "cell_type": "markdown",
   "metadata": {},
   "source": [
    "![iSA logo](../iSA_logo.png)\n",
    "### Statystyka: Zadania domowe\n",
    "#### Kurs Junior Data Scientist 2020\n",
    "\n",
    "**Wojciech Artichowicz**"
   ]
  },
  {
   "cell_type": "markdown",
   "metadata": {},
   "source": [
    "### A. Pytania teoretyczne:"
   ]
  },
  {
   "cell_type": "markdown",
   "metadata": {},
   "source": [
    "**1. Czym w teorii prawdopodobieństwa są zdarzenia?**"
   ]
  },
  {
   "cell_type": "markdown",
   "metadata": {},
   "source": [
    "Zdarzeniami losowymi nazywamy dowolne zbiory A,B,...,X,Y,... należące do σ-ciała F utworzonego na przestrzeni zdarzeń elementarnych Omega. Samo σ-ciało F nazywa się zbiorem zdarzeń losowych.\n",
    "\n",
    "Zdarzenia losowe są zbiorami, więc podlegają wszelkim prawom, zasadom i działaniom określonym dla zbiorów.\n",
    "Wyróżniamy:\n",
    "1. Zdarzenia elementarne\n",
    "2. Przestrzeń zdarzeń elementarnych\n",
    "3. Zdarzenia sprzyjające danemu zdarzeniu\n",
    "4. Zdarzenia przeciwne"
   ]
  },
  {
   "cell_type": "markdown",
   "metadata": {},
   "source": [
    "**2. Podaj podstawowe własności zbioru. Czy w języku Python istnieje obiekt posiadający te własności?**"
   ]
  },
  {
   "cell_type": "markdown",
   "metadata": {},
   "source": [
    " - Zbiory są nieuporządkowane. \n",
    " - Elementy zbioru są unikatowe\n",
    " Tak, set()"
   ]
  },
  {
   "cell_type": "markdown",
   "metadata": {},
   "source": [
    "**3. Jeżeli A jest pewnym zdarzeniem, to czym jest zdarzenie przeciwne?**"
   ]
  },
  {
   "cell_type": "markdown",
   "metadata": {},
   "source": [
    "Zdarzeniem niemożliwym"
   ]
  },
  {
   "cell_type": "markdown",
   "metadata": {},
   "source": [
    "**4. Czym jest zdarzenie losowe? Czym jest zdarzenie pewne i niemożliwe?**"
   ]
  },
  {
   "cell_type": "markdown",
   "metadata": {},
   "source": [
    "Zdarzenia losowe są zbiorami, więc podlegają wszelkim prawom, zasadom i działaniom określonym dla zbiorów.\n",
    "Zdarzenia pewne to zbiór zdarzeń elementarnych w danej przestrzeni zdarzeń elementarnych. Jest ono interpretowane jako zdarzenie które musi zajść.\n",
    "Zdarzenia niemożliwe są pustym podzbiorem przestrzeni zdarzeń elementarnych i są one interpretowane jako zdarzenia które nie mogą zaistnieć."
   ]
  },
  {
   "cell_type": "markdown",
   "metadata": {},
   "source": [
    "**5. Co to jest prawdopodobieństwo?**"
   ]
  },
  {
   "cell_type": "markdown",
   "metadata": {},
   "source": [
    "Jest to szansa zaistnienia pewnego zdarzenia, która jest określana w matematyce wartością od 0 do 1, gdzie 0 jest szansą zerową, a 1 pewną."
   ]
  },
  {
   "cell_type": "markdown",
   "metadata": {},
   "source": [
    "**6. Podaj i objaśnij tw. Bayesa.**"
   ]
  },
  {
   "cell_type": "markdown",
   "metadata": {},
   "source": [
    "P(A|B) = (P(B|A)*P(A))/P(B)\n",
    "Twierdzenie Bayesa zakłada prawdopodobieństwo zdarzenia bazując na pewnej wiedzy o zaistniałych czynnikach. \n",
    "Na przykład kiedy sprawdzamy pacjenta czy ma nowotwór prostaty mając wiedze o całej populacji dla osoby w tym wieku (czyli posiadamy wiedzę o zaistniałych czynnikach) jesteśmy w stanie wyliczyć jakie jest prawdopodbieństwo że dana osoba (z różnymi objawami) posiada ten nowotwór (dla różnych objawów różne prawdopodbieństwo)"
   ]
  },
  {
   "cell_type": "markdown",
   "metadata": {},
   "source": [
    "**7. Czym jest zmienna losowa?**"
   ]
  },
  {
   "cell_type": "markdown",
   "metadata": {},
   "source": [
    "Funkcja przypisująca zdarzeniom elementarnym liczby/wartość"
   ]
  },
  {
   "cell_type": "markdown",
   "metadata": {},
   "source": [
    "**8. Czym jest rozkład prawdopodobieństwa?**"
   ]
  },
  {
   "cell_type": "markdown",
   "metadata": {},
   "source": [
    "Miara określona na zbiorze dla pewnej zmiennej losowej przypisująca liczbe/wartość"
   ]
  },
  {
   "cell_type": "markdown",
   "metadata": {},
   "source": [
    "**9. Czym jest gęstosć rozkładu prawdopodobieństwa?**"
   ]
  },
  {
   "cell_type": "markdown",
   "metadata": {},
   "source": [
    "Jest to funkcja której wartość dla dowolnej wartości zbioru w dowolnej przykładowej przestrzeni może być interpretowana jako prawdopodobieństwo warunkowe dla danej wartości. Innymi słowy nieujemna funkcja rzeczywista określona dla danego rozkładu prawdopodobieństwa, czyli taka że całka z tej funkcji, policzona w odpowiednich granicach jest równa prawdopodobieństwu wystąpienia danego zdarzenia losowego."
   ]
  },
  {
   "cell_type": "markdown",
   "metadata": {},
   "source": [
    "**10. Czym jest dystrybuanta?**"
   ]
  },
  {
   "cell_type": "markdown",
   "metadata": {},
   "source": [
    "Funkcja która przyporządkowuje każdej liczbie rzeczywistej prawdopobieństwo.\n",
    "Dana zmienna losowa X przyjmuje wartość mniejszą od x: F(X) = P{X <= x}\n",
    "Dystrybuanta zmiennej losowej charakteryzuje rozkład prawdopodobieństwa tej zmiennej."
   ]
  },
  {
   "cell_type": "markdown",
   "metadata": {},
   "source": []
  },
  {
   "cell_type": "markdown",
   "metadata": {},
   "source": [
    "### B. Zadania (Python):"
   ]
  },
  {
   "cell_type": "markdown",
   "metadata": {},
   "source": [
    "**1. Eksperyment polega na badaniu ankietowym. Ankieta składa się z $N=4$ pytań. Na każde pytanie można udzielić jednej z trzech możliwych odpowiedzi (a, b, c). Omów:**\n",
    "\n",
    " - co będzie wynikiem pojedynczego eksperymentu;\n",
    " - czym w takim przypadku będzie zdarzenie elementarne;\n",
    " - czym będzie przestrzeń zdarzeń elementarnych;\n",
    " \n",
    "**Oblicz liczbę wszystkich możliwych wyników tego eksperymentu. Wygeneruj przestrzeń zdarzeń elementarnych.**"
   ]
  },
  {
   "cell_type": "code",
   "execution_count": 1,
   "metadata": {},
   "outputs": [],
   "source": [
    "# omega = {N1a, N1b, N1c, N2a, N2b, N2c, N3a, N3b, N3c, N4a, N4b, N4c} # przestrzen zdarzen elementarnych\n",
    "# zdarzenie elementarne to pojedynczy element ze zbioru powyzej. Zdarzenie elementarne to wybor na konkretnym pytaniu N 1-4 konkretnej odpowiedzi a-c\n",
    "# wynik eksperymentu to 4 zdarzenia losowe ze zbioru zdarzen elementarnych\n",
    "# 3^N = 3^4 = 81\n"
   ]
  },
  {
   "cell_type": "markdown",
   "metadata": {},
   "source": [
    "**2. Eksperyment polega na rzucie dwiema uczciwymi kostkami. Jeżeli na obu kostkach wypadnie taka sama liczba oczek, zmienna losowa przyjmuje wartość $x_0=0$, jeśli na pierwszej kostce wypadnie liczba oczek mniejsza niż na drugiej, wówczas zmienna losowa przyjmuje wartość $x_1=1$. Natomiast jeśli na pierwszej kostce wypadnie liczba oczek większa niż na drugiej kostce zmienna losowa przyjmuje wartość $x_2=2$.**\n",
    "\n",
    "**W języku Python utwórz zmienną losową (wartości i odpowiadające im prawdopodbieństwa) reprezentującą ten eksperyment. Oblicz wartość oczekiwaną i odchylenie standardowe oraz momenty zwykłe rzędu pierwszego i drugiego. Utwórz obiekt rozkładu z biblioteki scipy.stats dla tego przypadku**\n",
    "\n",
    "**Wykonaj wykres rozkładu prawdopodobieństwa i dystrybuanty tej zmiennej losowej.**"
   ]
  },
  {
   "cell_type": "code",
   "execution_count": 7,
   "metadata": {},
   "outputs": [
    {
     "name": "stdout",
     "output_type": "stream",
     "text": [
      "Wartosc oczekiwana: 1.25\n",
      "Odchylenie standardowe: 0.5215999999999998\n",
      "Wartosc i prawdopodobienstwo:\n",
      "Wartosc - P(0) = 0.16666666666666666\n",
      "Wartosc - P(1) = 0.4166666666666667\n",
      "Wartosc - P(2) = 0.4166666666666667\n"
     ]
    }
   ],
   "source": [
    "import random\n",
    "import numpy as np\n",
    "import scipy.stats as st\n",
    "import matplotlib.pyplot as plt\n",
    "# 6X6\n",
    "# 0 6/36 = 1/6 = P(X = Y)\n",
    "# 1 15/36 = P(Y > X)\n",
    "# 2 15/36 = P(X > Y)\n",
    "zdarzenia_elem = [(0, 1/6), (1, 15/36), (2, 15/36)]\n",
    "x = np.array([0, 1, 2])\n",
    "y = np.array([1/6, 15/36, 15/36])\n",
    "zbior = []\n",
    "def rzuc():\n",
    "    kostka1 = random.randint(1, 6)\n",
    "    kostka2 = random.randint(1, 6)\n",
    "    x = -1\n",
    "    if kostka1 == kostka2:\n",
    "        x = 0\n",
    "    elif kostka1 > kostka2:\n",
    "        x = 2\n",
    "    elif kostka2 > kostka1:\n",
    "        x = 1\n",
    "\n",
    "    zbior.append(x)\n",
    "\n",
    "def sim():\n",
    "    for i in range(50):\n",
    "        rzuc()\n",
    "sim()\n",
    "\n",
    "E_x = 0\n",
    "for wartosc, p in zdarzenia_elem:\n",
    "    E_x += wartosc*p\n",
    "\n",
    "srednia = 0\n",
    "for i in zbior:\n",
    "    srednia += i\n",
    "srednia = srednia / len(zbior)\n",
    "\n",
    "stdev  = 0\n",
    "for i in zbior:\n",
    "    stdev += (i - srednia)**2\n",
    "stdev = stdev / len(zbior)\n",
    "print(f\"Wartosc oczekiwana: {E_x}\")\n",
    "print(f\"Odchylenie standardowe: {stdev}\")\n",
    "print(f\"Wartosc i prawdopodobienstwo:\")\n",
    "for z in zdarzenia_elem:\n",
    "    print(f\"Wartosc - P({z[0]}) = {z[1]}\")\n",
    "\n"
   ]
  },
  {
   "cell_type": "code",
   "execution_count": 11,
   "metadata": {},
   "outputs": [
    {
     "name": "stdout",
     "output_type": "stream",
     "text": [
      "1.25\n"
     ]
    },
    {
     "data": {
      "text/plain": [
       "<matplotlib.collections.LineCollection at 0x25a0f65a0d0>"
      ]
     },
     "execution_count": 11,
     "metadata": {},
     "output_type": "execute_result"
    },
    {
     "data": {
      "image/png": "[encoded data removed]",
      "text/plain": [
       "<Figure size 432x288 with 1 Axes>"
      ]
     },
     "metadata": {
      "needs_background": "light"
     },
     "output_type": "display_data"
    }
   ],
   "source": [
    "N = np.sum(y)\n",
    "p = y/N\n",
    "rozklad = st.rv_discrete(values=(x,p))\n",
    "print(rozklad.expect())\n",
    "rozklad.stats()\n",
    "t = rozklad.xk\n",
    "y = rozklad.pmf(t)\n",
    "plt.vlines(t,0,y,\"red\")\n",
    "\n",
    "\n",
    "y1 = rozklad.cdf(t)\n",
    "plt.hlines(np.append([0],y1), np.append([min(t)-1],t), np.append(t,[max(t)+1]), colors='b', lw=2)"
   ]
  },
  {
   "cell_type": "markdown",
   "metadata": {},
   "source": [
    "**3. Dana jest zmienna losowa o rozkładzie normalnym ze średnią $\\mu=1250$ i odchyleniem standardowym $\\sigma=300$. Ta zmienna losowa opisuje sumę dziennego przychodu pewnej firmy w PLN. Oblicz:**\n",
    " \n",
    " 1. Prawdopodobieństwo, że w losowo wybranym dniu suma dziennego przychodu osiągnie wartość pomiędzy $1000$ a $1100$ PLN\n",
    " 2. Prawdopodobieństwo, że w losowo wybranym dniu suma dziennego przychodu osiągnie wartość większą niż $1500$ PLN\n",
    " 3. Kwotę przychodu dziennego, której prawdopodobieństwo przewyższenia (otrzymania wartości równej lub większej) wynosi $0,1$\n",
    " 4. Kwotę przychodu dziennego, której prawdopodobieństwo nieosiągnięcia (otrzymania wartości równiej lub niższej) wynosi $0.25$\n",
    " \n",
    "**Wykonaj wykres gęstości rozkładu prawdopodobieństwa i dystrybuanty tej zmiennej losowej. Wykonaj wykresy ilustrujące rozwiązanie dla każdego przypadku**"
   ]
  },
  {
   "cell_type": "code",
   "execution_count": 17,
   "metadata": {},
   "outputs": [
    {
     "data": {
      "image/png": "[encoded data removed]",
      "text/plain": [
       "<Figure size 432x288 with 1 Axes>"
      ]
     },
     "metadata": {
      "needs_background": "light"
     },
     "output_type": "display_data"
    }
   ],
   "source": [
    "u = 1250\n",
    "std = 300\n",
    "s = np.random.normal(u, std, 1000)\n",
    "count, bins, ignored = plt.hist(s, 20, density=True, edgecolor=\"black\")\n",
    "plt.plot(bins,  1/(std * np.sqrt(2 * np.pi)) *\n",
    "               np.exp( - (bins - u)**2 / (2 * std**2) ),\n",
    "         linewidth=2, color='r')\n",
    "plt.show()\n",
    "kde = st.gaussian_kde(s)"
   ]
  },
  {
   "cell_type": "code",
   "execution_count": 18,
   "metadata": {},
   "outputs": [
    {
     "data": {
      "text/plain": [
       "0.10107370956304162"
      ]
     },
     "execution_count": 18,
     "metadata": {},
     "output_type": "execute_result"
    }
   ],
   "source": [
    "z1 = kde.integrate_box_1d(1000, 1100)\n",
    "z1"
   ]
  },
  {
   "cell_type": "code",
   "execution_count": 47,
   "metadata": {},
   "outputs": [
    {
     "data": {
      "text/plain": [
       "0.23917151512201096"
      ]
     },
     "execution_count": 47,
     "metadata": {},
     "output_type": "execute_result"
    }
   ],
   "source": [
    "z2 = kde.integrate_box_1d(1500, 3000)\n",
    "z2\n"
   ]
  },
  {
   "cell_type": "code",
   "execution_count": 44,
   "metadata": {},
   "outputs": [
    {
     "name": "stdout",
     "output_type": "stream",
     "text": [
      "1653 0.10984643384574347\n",
      "1654 0.1092312903211562\n",
      "1655 0.10861846813878506\n",
      "1656 0.10800795426126016\n",
      "1657 0.10739973590871518\n",
      "1658 0.10679380056301169\n",
      "1659 0.10619013597170143\n",
      "1660 0.10558873015172603\n",
      "1661 0.1049895713928525\n",
      "1662 0.10439264826084443\n",
      "1663 0.10379794960036784\n",
      "1664 0.10320546453763157\n",
      "1665 0.10261518248276247\n",
      "1666 0.1020270931319148\n",
      "1667 0.10144118646911518\n",
      "1668 0.10085745276784286\n",
      "1669 0.10027588259234671\n",
      "1670 0.09969646679869981\n",
      "1671 0.0991191965355929\n"
     ]
    }
   ],
   "source": [
    "for i in range(2250):\n",
    "    z = kde.integrate_box_1d(750+i, 3000)\n",
    "    if z >= 0.0988888 and z <= 0.11:\n",
    "        print(750+i, z)\n",
    "# odp. do 1669"
   ]
  },
  {
   "cell_type": "code",
   "execution_count": 48,
   "metadata": {},
   "outputs": [
    {
     "name": "stdout",
     "output_type": "stream",
     "text": [
      "1482 0.2590386924733113\n",
      "1483 0.25791743470362954\n",
      "1484 0.25679807894606693\n",
      "1485 0.25568065515084837\n",
      "1486 0.25456519330803784\n",
      "1487 0.2534517234352521\n",
      "1488 0.2523402755652847\n",
      "1489 0.2512308797336493\n",
      "1490 0.25012356596605123\n",
      "1491 0.2490183642657973\n"
     ]
    }
   ],
   "source": [
    "for i in range(2250):\n",
    "    z = kde.integrate_box_1d(750+i, 3000)\n",
    "    if z >= 0.2488888 and z <= 0.26:\n",
    "        print(750+i, z)\n",
    "\n",
    "\n",
    "# odp.  od 1491"
   ]
  }
 ],
 "metadata": {
  "kernelspec": {
   "display_name": "Python 3",
   "language": "python",
   "name": "python3"
  },
  "language_info": {
   "codemirror_mode": {
    "name": "ipython",
    "version": 3
   },
   "file_extension": ".py",
   "mimetype": "text/x-python",
   "name": "python",
   "nbconvert_exporter": "python",
   "pygments_lexer": "ipython3",
   "version": "3.8.11"
  }
 },
 "nbformat": 4,
 "nbformat_minor": 2
}
